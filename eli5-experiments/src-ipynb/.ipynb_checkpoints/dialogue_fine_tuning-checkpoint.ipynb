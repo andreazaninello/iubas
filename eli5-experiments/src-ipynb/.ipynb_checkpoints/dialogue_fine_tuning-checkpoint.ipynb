{
 "cells": [
  {
   "cell_type": "markdown",
   "metadata": {},
   "source": [
    "### Info:\n",
    "\n",
    "- Fine-tuning HAT model on general big dialogue dataset"
   ]
  },
  {
   "cell_type": "code",
   "execution_count": 1,
   "metadata": {},
   "outputs": [],
   "source": [
    "import sys\n",
    "import os\n",
    "import wandb\n",
    "\n",
    "sys.path.insert(0, '../../../third-party/hierarchical-transformers/')\n",
    "sys.path.insert(0, '../src-py')\n",
    "os.environ['CUDA_VISIBLE_DEVICES'] = '0'\n",
    "os.environ['CUDA_LAUNCH_BLOCKING'] = '1'\n",
    "\n",
    "#wandb.init(project=\"test-project\", entity=\"milad-it\")"
   ]
  },
  {
   "cell_type": "code",
   "execution_count": 2,
   "metadata": {},
   "outputs": [],
   "source": [
    "import json\n",
    "import pandas as pd\n",
    "import numpy as np\n",
    "import glob \n",
    "from tabulate import tabulate\n",
    "import math\n",
    "import re\n",
    "import matplotlib.pyplot as plt\n",
    "from sklearn.model_selection import train_test_split\n",
    "from sklearn.metrics import mean_squared_error\n",
    "from sklearn.model_selection import KFold\n",
    "\n",
    "pd.set_option('display.max_colwidth', None)"
   ]
  },
  {
   "cell_type": "code",
   "execution_count": 5,
   "metadata": {},
   "outputs": [],
   "source": [
    "from models.hat import HATConfig, HATTokenizer, HATForSequenceClassification\n",
    "from models.longformer import LongformerTokenizer, LongformerModelForSequenceClassification\n",
    "from language_modelling.data_collator import DataCollatorForDocumentClassification\n",
    "from datasets import load_dataset, Dataset, load_metric\n",
    "from sklearn.metrics import f1_score"
   ]
  },
  {
   "cell_type": "code",
   "execution_count": 6,
   "metadata": {},
   "outputs": [],
   "source": [
    "model_name_or_path = 'kiddothe2b/hierarchical-transformer-base-4096'\n",
    "num_labels=1\n",
    "model_revision=\"main\"\n",
    "do_lower_case=False\n",
    "pooling=\"max\" #Which pooling method to use (max, cls, attentive)\n",
    "max_seq_length=56"
   ]
  }
 ],
 "metadata": {
  "kernelspec": {
   "display_name": "Python 3",
   "language": "python",
   "name": "python3"
  },
  "language_info": {
   "codemirror_mode": {
    "name": "ipython",
    "version": 3
   },
   "file_extension": ".py",
   "mimetype": "text/x-python",
   "name": "python",
   "nbconvert_exporter": "python",
   "pygments_lexer": "ipython3",
   "version": "3.8.10"
  }
 },
 "nbformat": 4,
 "nbformat_minor": 4
}
